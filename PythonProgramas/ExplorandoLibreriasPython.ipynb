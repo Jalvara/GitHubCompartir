{
 "cells": [
  {
   "cell_type": "code",
   "execution_count": 101,
   "id": "220cfdf9-dd07-4e8d-ac89-c03b65e06165",
   "metadata": {},
   "outputs": [
    {
     "name": "stdout",
     "output_type": "stream",
     "text": [
      "Graph with 6 nodes and 1 edges\n",
      "['a', 123, 3, 4, 5, 6]\n",
      "[('a', 123)]\n",
      "['a', 123, 3, 4, 5, 6]\n"
     ]
    }
   ],
   "source": [
    "import networkx as nx\n",
    "#Un grafo es una estructura que se compone de aristas y vertices \n",
    "G=nx.Graph()\n",
    "G.add_node('a')\n",
    "G.add_node(123)\n",
    "G.add_nodes_from([3,4,5,6])\n",
    "G.add_edge('a',123)\n",
    "print(G)\n",
    "print(G.nodes)\n",
    "print(G.edges)\n",
    "S=list(nx.minimum_spanning_tree(G))\n",
    "print(S)"
   ]
  },
  {
   "cell_type": "code",
   "execution_count": 88,
   "id": "8957ed5b-35c1-41c0-8292-810731eb15b6",
   "metadata": {},
   "outputs": [
    {
     "data": {
      "text/plain": [
       "'def f(x):\\n    return np.power(x,2)+5*x+6\\ndef df(x):\\n    return 2*x+5\\nx0=-2.6\\nSolucion=sc.optimize.newton(f,x0,fprime=df,full_output=True, disp=True)    \\nprint(Solucion)'"
      ]
     },
     "execution_count": 88,
     "metadata": {},
     "output_type": "execute_result"
    }
   ],
   "source": [
    "import numpy as np\n",
    "import scipy as sc\n",
    "# Problema (x+3)(x+2)=x^2+5x+6=0; las raices son x=-3, x=-2\n",
    "\"\"\"def f(x):\n",
    "    return np.power(x,2)+5*x+6\n",
    "def df(x):\n",
    "    return 2*x+5\n",
    "x0=-2.6\n",
    "Solucion=sc.optimize.newton(f,x0,fprime=df,full_output=True, disp=True)    \n",
    "print(Solucion)\"\"\""
   ]
  },
  {
   "cell_type": "code",
   "execution_count": 76,
   "id": "ed26df9d-68c5-4d5f-954d-0f9a997af104",
   "metadata": {},
   "outputs": [
    {
     "data": {
      "image/png": "[encoded data removed]",
      "text/plain": [
       "<Figure size 640x480 with 1 Axes>"
      ]
     },
     "metadata": {},
     "output_type": "display_data"
    }
   ],
   "source": [
    "import numpy as np\n",
    "import matplotlib.pyplot as plt\n",
    "#Ejmplo de grafica de puntos\n",
    "\"\"\"X=np.random.randint(0,30,100)\n",
    "Y=np.random.randint(0,30,100)\n",
    "plt.scatter(X,Y)\n",
    "plt.show()\"\"\"\n",
    "#Dibujando curvas en el plano 2d\n",
    "\"\"\"x=np.linspace(0,2*np.pi,100)\n",
    "y=np.sin(x)\n",
    "plt.plot(x,y)\"\"\"\n",
    "#Haciendo un histograma\n",
    "\"\"\"X=np.random.randint(0,30,100)\n",
    "plt.hist(X)\n",
    "plt.show()\"\"\"\n"
   ]
  },
  {
   "cell_type": "code",
   "execution_count": 70,
   "id": "d39915ba-b570-4bc8-ab0a-5107d55f3cd0",
   "metadata": {},
   "outputs": [
    {
     "data": {
      "text/plain": [
       "'vector1=np.array([1,2.0,3,4,5,6])\\nprint(vector1,\" tipo: \",type(vector1), \"dimension: \",vector1.ndim,\"forma: \",vector1.shape,\"tipo: \",vector1.dtype)\\nmatriz1=np.array([[1,2],[3,4]])\\nprint(matriz1)\\nprint(matriz1,\" tipo: \",type(matriz1), \"dimension: \",matriz1.ndim,\"forma: \",matriz1.shape,\"tipo: \",matriz1.dtype)\\ntupla2=(3,3)\\nmatriz2=np.zeros(tupla2)\\nprint(matriz2)\\nmatriz3=np.eye(5)\\nprint(\"A: \\n\",matriz3)\\nmatriz4=np.random.randint(10,30,(4,4))\\nprint(\"B:\\n\",matriz4)\\nprint(\"trasnpuesta de B:\\n\",np.transpose(matriz4))\\nprint(\"Rango de la matriz: \",np.linalg.matrix_rank(matriz4))\\nprint(\"La inversa de la matriz es:\\n\",np.linalg.inv(matriz4))\\nvector5=np.linspace(0,np.pi,30)\\nprint(vector5)'"
      ]
     },
     "execution_count": 70,
     "metadata": {},
     "output_type": "execute_result"
    }
   ],
   "source": [
    "import numpy as np\n",
    "\"\"\"vector1=np.array([1,2.0,3,4,5,6])\n",
    "print(vector1,\" tipo: \",type(vector1), \"dimension: \",vector1.ndim,\"forma: \",vector1.shape,\"tipo: \",vector1.dtype)\n",
    "matriz1=np.array([[1,2],[3,4]])\n",
    "print(matriz1)\n",
    "print(matriz1,\" tipo: \",type(matriz1), \"dimension: \",matriz1.ndim,\"forma: \",matriz1.shape,\"tipo: \",matriz1.dtype)\n",
    "tupla2=(3,3)\n",
    "matriz2=np.zeros(tupla2)\n",
    "print(matriz2)\n",
    "matriz3=np.eye(5)\n",
    "print(\"A: \\n\",matriz3)\n",
    "matriz4=np.random.randint(10,30,(4,4))\n",
    "print(\"B:\\n\",matriz4)\n",
    "print(\"trasnpuesta de B:\\n\",np.transpose(matriz4))\n",
    "print(\"Rango de la matriz: \",np.linalg.matrix_rank(matriz4))\n",
    "print(\"La inversa de la matriz es:\\n\",np.linalg.inv(matriz4))\n",
    "vector5=np.linspace(0,np.pi,30)\n",
    "print(vector5)\"\"\""
   ]
  },
  {
   "cell_type": "code",
   "execution_count": 36,
   "id": "40288877-b587-4c33-9465-2b3643659702",
   "metadata": {},
   "outputs": [
    {
     "name": "stdout",
     "output_type": "stream",
     "text": [
      "La media del conjunto de datos es:  2.0\n",
      "El producto punto de ambos vectores es:  8\n",
      "(1, 2)\n"
     ]
    }
   ],
   "source": [
    "#Funciones en python\n",
    "#Ejemplo1: Funcion que calcula la media de los elementos de una lista\n",
    "def funcion1(L):\n",
    "    media=0\n",
    "    for x in L:\n",
    "        media=media+x\n",
    "    media=media/len(L)\n",
    "    return media\n",
    "L=[2,2,2,2,2]\n",
    "print(\"La media del conjunto de datos es: \",funcion1(L))\n",
    "def funcion2(v1,v2):\n",
    "    punto=0\n",
    "    for k in range(0,len(v1)):\n",
    "        punto=punto+v1[k]*v2[k]\n",
    "    return punto\n",
    "v1=[2,3,4]\n",
    "v2=[1,2,0]\n",
    "print(\"El producto punto de ambos vectores es: \",funcion2(v1,v2))\n",
    "#Una funcion que retorna el minimo y el maximo de una lista\n",
    "def funcion3(L):\n",
    "    return (L[0],L[1])\n",
    "(x,y)=funcion3([1,2,3])\n",
    "print((x,y))"
   ]
  },
  {
   "cell_type": "code",
   "execution_count": 38,
   "id": "5f52e32a-6a30-414b-a910-4e33e2ae46a5",
   "metadata": {},
   "outputs": [
    {
     "data": {
      "text/plain": [
       "'if 2 in L: \\n    print(\"El elemento \",2,\"se encuentra en la lista L\")\\n    print(\"Esta instruccion se ejecuta dentro del bloque if\")\\nelse:\\n    print(\"El elemento \",2,\" no se encuentra en la lista L\")\\nprint(\"Es el final de este bloque\")'"
      ]
     },
     "execution_count": 38,
     "metadata": {},
     "output_type": "execute_result"
    }
   ],
   "source": [
    "#Sentencias de programacion estructarada\n",
    "L=[1,2,3,4,5]\n",
    "#operador in\n",
    "\"\"\"if 2 in L: \n",
    "    print(\"El elemento \",2,\"se encuentra en la lista L\")\n",
    "    print(\"Esta instruccion se ejecuta dentro del bloque if\")\n",
    "else:\n",
    "    print(\"El elemento \",2,\" no se encuentra en la lista L\")\n",
    "print(\"Es el final de este bloque\")\"\"\""
   ]
  },
  {
   "cell_type": "code",
   "execution_count": 37,
   "id": "da074302-d93f-44f4-b53c-f33cbee39e98",
   "metadata": {},
   "outputs": [
    {
     "data": {
      "text/plain": [
       "'x=0\\nwhile x<5:\\n    if x!=3:\\n        print(x)\\n    x+=1\\nprint(\"El bloque while finalizo\")\\nL=[\\'a\\',1,2,3,\"maria\",[1,2,3]]\\nprint(L)\\nfor k in range(0,6):\\n    print(L[k])\\nprint(\"--------------------\")    \\nfor k in L:\\n    print(k)\\nprint(\"--------------------\")        \\nD={\"a\":\"Letra a\",\"b\":\"Letra b\",\"c\":\"Letra c\"}\\nfor k in D:\\n    print(k,\": \",D[k])\\nprint(\"--------------------\")'"
      ]
     },
     "execution_count": 37,
     "metadata": {},
     "output_type": "execute_result"
    }
   ],
   "source": [
    "#Ejemplo de una estrutura de repeticion\n",
    "\"\"\"x=0\n",
    "while x<5:\n",
    "    if x!=3:\n",
    "        print(x)\n",
    "    x+=1\n",
    "print(\"El bloque while finalizo\")\n",
    "L=['a',1,2,3,\"maria\",[1,2,3]]\n",
    "print(L)\n",
    "for k in range(0,6):\n",
    "    print(L[k])\n",
    "print(\"--------------------\")    \n",
    "for k in L:\n",
    "    print(k)\n",
    "print(\"--------------------\")        \n",
    "D={\"a\":\"Letra a\",\"b\":\"Letra b\",\"c\":\"Letra c\"}\n",
    "for k in D:\n",
    "    print(k,\": \",D[k])\n",
    "print(\"--------------------\")\"\"\"    "
   ]
  }
 ],
 "metadata": {
  "kernelspec": {
   "display_name": "Python 3 (ipykernel)",
   "language": "python",
   "name": "python3"
  },
  "language_info": {
   "codemirror_mode": {
    "name": "ipython",
    "version": 3
   },
   "file_extension": ".py",
   "mimetype": "text/x-python",
   "name": "python",
   "nbconvert_exporter": "python",
   "pygments_lexer": "ipython3",
   "version": "3.12.0"
  }
 },
 "nbformat": 4,
 "nbformat_minor": 5
}
